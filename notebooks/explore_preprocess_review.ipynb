{
 "cells": [
  {
   "cell_type": "code",
   "execution_count": 1,
   "metadata": {
    "collapsed": true
   },
   "outputs": [],
   "source": [
    "from __future__ import division\n",
    "from dateutil.parser import parse\n",
    "from nltk.tokenize import WordPunctTokenizer\n",
    "from nltk.stem import PorterStemmer\n",
    "from nltk.corpus import stopwords\n",
    "import pandas as pd\n",
    "import numpy as np\n",
    "import time\n",
    "import datetime"
   ]
  },
  {
   "cell_type": "code",
   "execution_count": 2,
   "metadata": {
    "collapsed": false
   },
   "outputs": [
    {
     "data": {
      "text/html": [
       "<div>\n",
       "<table border=\"1\" class=\"dataframe\">\n",
       "  <thead>\n",
       "    <tr style=\"text-align: right;\">\n",
       "      <th></th>\n",
       "      <th>business_id</th>\n",
       "      <th>date</th>\n",
       "      <th>stars</th>\n",
       "      <th>text</th>\n",
       "      <th>type</th>\n",
       "      <th>user_id</th>\n",
       "    </tr>\n",
       "    <tr>\n",
       "      <th>review_id</th>\n",
       "      <th></th>\n",
       "      <th></th>\n",
       "      <th></th>\n",
       "      <th></th>\n",
       "      <th></th>\n",
       "      <th></th>\n",
       "    </tr>\n",
       "  </thead>\n",
       "  <tbody>\n",
       "    <tr>\n",
       "      <th>1Lq3ghX6yzJ7MsWXDkgIGQ</th>\n",
       "      <td>AuMz7XGkjLcIUurp_AD51w</td>\n",
       "      <td>2010-11-15</td>\n",
       "      <td>5</td>\n",
       "      <td>Nice place, big patio.  Now offering LIVE sket...</td>\n",
       "      <td>review</td>\n",
       "      <td>2WkM3pYfx7bt46tv7u4hHA</td>\n",
       "    </tr>\n",
       "    <tr>\n",
       "      <th>zulCqAo_XY9wAefJ58H9Fw</th>\n",
       "      <td>8i5hB_dmf33NVbWE5SwoMQ</td>\n",
       "      <td>2012-09-07</td>\n",
       "      <td>5</td>\n",
       "      <td>Friendly staff. Make sure you order the gyro p...</td>\n",
       "      <td>review</td>\n",
       "      <td>eHWbF0k5QOBLgQXhGdeHmg</td>\n",
       "    </tr>\n",
       "    <tr>\n",
       "      <th>ptm1X6ReMEYg1Y203KXkxQ</th>\n",
       "      <td>nvaAUTTl7oqiJDhuimNG6A</td>\n",
       "      <td>2012-12-29</td>\n",
       "      <td>5</td>\n",
       "      <td>LOVE LOVE LOVE this place for breakfast. They ...</td>\n",
       "      <td>review</td>\n",
       "      <td>HrjjHfDGTafXyKpQKNrYHg</td>\n",
       "    </tr>\n",
       "    <tr>\n",
       "      <th>JCCe3m0LK7dGGxO4ntoGLg</th>\n",
       "      <td>QwaoxP5Mgm3PJuZo_4bFsw</td>\n",
       "      <td>2013-02-22</td>\n",
       "      <td>1</td>\n",
       "      <td>Disgusting sandwich. I should have known bette...</td>\n",
       "      <td>review</td>\n",
       "      <td>DrWLhrK8WMZf7Jb-Oqc7ww</td>\n",
       "    </tr>\n",
       "    <tr>\n",
       "      <th>CeOpuUly_s75QSuHKtfxng</th>\n",
       "      <td>0lEp4vISRmOXa8Xz2pWhbw</td>\n",
       "      <td>2013-02-20</td>\n",
       "      <td>4</td>\n",
       "      <td>Always a fan of Cafe Zupas and their very frie...</td>\n",
       "      <td>review</td>\n",
       "      <td>jDCONTPR6nyc3J7iimwzkQ</td>\n",
       "    </tr>\n",
       "  </tbody>\n",
       "</table>\n",
       "</div>"
      ],
      "text/plain": [
       "                                   business_id       date  stars  \\\n",
       "review_id                                                          \n",
       "1Lq3ghX6yzJ7MsWXDkgIGQ  AuMz7XGkjLcIUurp_AD51w 2010-11-15      5   \n",
       "zulCqAo_XY9wAefJ58H9Fw  8i5hB_dmf33NVbWE5SwoMQ 2012-09-07      5   \n",
       "ptm1X6ReMEYg1Y203KXkxQ  nvaAUTTl7oqiJDhuimNG6A 2012-12-29      5   \n",
       "JCCe3m0LK7dGGxO4ntoGLg  QwaoxP5Mgm3PJuZo_4bFsw 2013-02-22      1   \n",
       "CeOpuUly_s75QSuHKtfxng  0lEp4vISRmOXa8Xz2pWhbw 2013-02-20      4   \n",
       "\n",
       "                                                                     text  \\\n",
       "review_id                                                                   \n",
       "1Lq3ghX6yzJ7MsWXDkgIGQ  Nice place, big patio.  Now offering LIVE sket...   \n",
       "zulCqAo_XY9wAefJ58H9Fw  Friendly staff. Make sure you order the gyro p...   \n",
       "ptm1X6ReMEYg1Y203KXkxQ  LOVE LOVE LOVE this place for breakfast. They ...   \n",
       "JCCe3m0LK7dGGxO4ntoGLg  Disgusting sandwich. I should have known bette...   \n",
       "CeOpuUly_s75QSuHKtfxng  Always a fan of Cafe Zupas and their very frie...   \n",
       "\n",
       "                          type                 user_id  \n",
       "review_id                                               \n",
       "1Lq3ghX6yzJ7MsWXDkgIGQ  review  2WkM3pYfx7bt46tv7u4hHA  \n",
       "zulCqAo_XY9wAefJ58H9Fw  review  eHWbF0k5QOBLgQXhGdeHmg  \n",
       "ptm1X6ReMEYg1Y203KXkxQ  review  HrjjHfDGTafXyKpQKNrYHg  \n",
       "JCCe3m0LK7dGGxO4ntoGLg  review  DrWLhrK8WMZf7Jb-Oqc7ww  \n",
       "CeOpuUly_s75QSuHKtfxng  review  jDCONTPR6nyc3J7iimwzkQ  "
      ]
     },
     "execution_count": 2,
     "metadata": {},
     "output_type": "execute_result"
    }
   ],
   "source": [
    "review_df = pd.read_csv('../data/yelp_test_set_review.csv',\n",
    "                     converters={'date': parse}).set_index('review_id')\n",
    "review_df.head()"
   ]
  },
  {
   "cell_type": "code",
   "execution_count": 3,
   "metadata": {
    "collapsed": true
   },
   "outputs": [],
   "source": [
    "review_df = review_df.drop(['type'],axis=1)\n",
    "review_df['text'] = review_df['text'].fillna(\"\")\n",
    "review_df['review_len'] = review_df['text'].apply(len)"
   ]
  },
  {
   "cell_type": "code",
   "execution_count": 4,
   "metadata": {
    "collapsed": true
   },
   "outputs": [],
   "source": [
    "tokenizer = WordPunctTokenizer()\n",
    "stemmer = PorterStemmer()"
   ]
  },
  {
   "cell_type": "code",
   "execution_count": 5,
   "metadata": {
    "collapsed": false
   },
   "outputs": [
    {
     "data": {
      "text/plain": [
       "{u'a',\n",
       " u'about',\n",
       " u'above',\n",
       " u'after',\n",
       " u'again',\n",
       " u'against',\n",
       " u'ain',\n",
       " u'all',\n",
       " u'am',\n",
       " u'an',\n",
       " u'and',\n",
       " u'any',\n",
       " u'are',\n",
       " u'aren',\n",
       " u'as',\n",
       " u'at',\n",
       " u'be',\n",
       " u'because',\n",
       " u'been',\n",
       " u'before',\n",
       " u'being',\n",
       " u'below',\n",
       " u'between',\n",
       " u'both',\n",
       " u'but',\n",
       " u'by',\n",
       " u'can',\n",
       " u'couldn',\n",
       " u'd',\n",
       " u'did',\n",
       " u'didn',\n",
       " u'do',\n",
       " u'does',\n",
       " u'doesn',\n",
       " u'doing',\n",
       " u'don',\n",
       " u'down',\n",
       " u'during',\n",
       " u'each',\n",
       " u'few',\n",
       " u'for',\n",
       " u'from',\n",
       " u'further',\n",
       " u'had',\n",
       " u'hadn',\n",
       " u'has',\n",
       " u'hasn',\n",
       " u'have',\n",
       " u'haven',\n",
       " u'having',\n",
       " u'he',\n",
       " u'her',\n",
       " u'here',\n",
       " u'hers',\n",
       " u'herself',\n",
       " u'him',\n",
       " u'himself',\n",
       " u'his',\n",
       " u'how',\n",
       " u'i',\n",
       " u'if',\n",
       " u'in',\n",
       " u'into',\n",
       " u'is',\n",
       " u'isn',\n",
       " u'it',\n",
       " u'its',\n",
       " u'itself',\n",
       " u'just',\n",
       " u'll',\n",
       " u'm',\n",
       " u'ma',\n",
       " u'me',\n",
       " u'mightn',\n",
       " u'more',\n",
       " u'most',\n",
       " u'mustn',\n",
       " u'my',\n",
       " u'myself',\n",
       " u'needn',\n",
       " u'no',\n",
       " u'nor',\n",
       " u'not',\n",
       " u'now',\n",
       " u'o',\n",
       " u'of',\n",
       " u'off',\n",
       " u'on',\n",
       " u'once',\n",
       " u'only',\n",
       " u'or',\n",
       " u'other',\n",
       " u'our',\n",
       " u'ours',\n",
       " u'ourselves',\n",
       " u'out',\n",
       " u'over',\n",
       " u'own',\n",
       " u're',\n",
       " u's',\n",
       " u'same',\n",
       " u'shan',\n",
       " u'she',\n",
       " u'should',\n",
       " u'shouldn',\n",
       " u'so',\n",
       " u'some',\n",
       " u'such',\n",
       " u't',\n",
       " u'than',\n",
       " u'that',\n",
       " u'the',\n",
       " u'their',\n",
       " u'theirs',\n",
       " u'them',\n",
       " u'themselves',\n",
       " u'then',\n",
       " u'there',\n",
       " u'these',\n",
       " u'they',\n",
       " u'this',\n",
       " u'those',\n",
       " u'through',\n",
       " u'to',\n",
       " u'too',\n",
       " u'under',\n",
       " u'until',\n",
       " u'up',\n",
       " u've',\n",
       " u'very',\n",
       " u'was',\n",
       " u'wasn',\n",
       " u'we',\n",
       " u'were',\n",
       " u'weren',\n",
       " u'what',\n",
       " u'when',\n",
       " u'where',\n",
       " u'which',\n",
       " u'while',\n",
       " u'who',\n",
       " u'whom',\n",
       " u'why',\n",
       " u'will',\n",
       " u'with',\n",
       " u'won',\n",
       " u'wouldn',\n",
       " u'y',\n",
       " u'you',\n",
       " u'your',\n",
       " u'yours',\n",
       " u'yourself',\n",
       " u'yourselves'}"
      ]
     },
     "execution_count": 5,
     "metadata": {},
     "output_type": "execute_result"
    }
   ],
   "source": [
    "stopset = set(stopwords.words('english'))\n",
    "stopset"
   ]
  },
  {
   "cell_type": "code",
   "execution_count": 9,
   "metadata": {
    "collapsed": false
   },
   "outputs": [],
   "source": [
    "import sys  \n",
    "\n",
    "reload(sys)  \n",
    "sys.setdefaultencoding('utf8')\n"
   ]
  },
  {
   "cell_type": "code",
   "execution_count": 17,
   "metadata": {
    "collapsed": false
   },
   "outputs": [
    {
     "data": {
      "text/plain": [
       "['nice',\n",
       " 'place',\n",
       " 'patio',\n",
       " 'offering',\n",
       " 'live',\n",
       " 'sketch',\n",
       " 'comedy',\n",
       " 'wednesday',\n",
       " 'november',\n",
       " '17th',\n",
       " 'local',\n",
       " 'troupe',\n",
       " 'sense',\n",
       " 'annual',\n",
       " 'holiday',\n",
       " 'show',\n",
       " 'lighter',\n",
       " 'snappier',\n",
       " 'take',\n",
       " 'holiday',\n",
       " 'times',\n",
       " 'easily',\n",
       " 'offended',\n",
       " 'sketches',\n",
       " 'include',\n",
       " 'scariest',\n",
       " 'hollowe',\n",
       " 'costume',\n",
       " 'first',\n",
       " 'thanksgiving',\n",
       " 'shot',\n",
       " 'santa',\n",
       " 'claus',\n",
       " 'well',\n",
       " 'infectious',\n",
       " 'song',\n",
       " 'mama',\n",
       " 'christmas']"
      ]
     },
     "execution_count": 17,
     "metadata": {},
     "output_type": "execute_result"
    }
   ],
   "source": [
    "stemmedReview = []\n",
    "review_words = [w for w in tokenizer.tokenize(review_df.ix[0,'text'].lower()) if (len(w) > 3 and w not in stopset)]\n",
    "review_words"
   ]
  },
  {
   "cell_type": "code",
   "execution_count": 18,
   "metadata": {
    "collapsed": false
   },
   "outputs": [
    {
     "data": {
      "text/plain": [
       "[u'nice',\n",
       " u'place',\n",
       " u'patio',\n",
       " u'offer',\n",
       " u'live',\n",
       " u'sketch',\n",
       " u'comedi',\n",
       " u'wednesday',\n",
       " u'novemb',\n",
       " u'17th',\n",
       " u'local',\n",
       " u'troup',\n",
       " u'sens',\n",
       " u'annual',\n",
       " u'holiday',\n",
       " u'show',\n",
       " u'lighter',\n",
       " u'snappier',\n",
       " u'take',\n",
       " u'holiday',\n",
       " u'time',\n",
       " u'easili',\n",
       " u'offend',\n",
       " u'sketch',\n",
       " u'includ',\n",
       " u'scariest',\n",
       " u'hollow',\n",
       " u'costum',\n",
       " u'first',\n",
       " u'thanksgiv',\n",
       " u'shot',\n",
       " u'santa',\n",
       " u'clau',\n",
       " u'well',\n",
       " u'infecti',\n",
       " u'song',\n",
       " u'mama',\n",
       " u'christma']"
      ]
     },
     "execution_count": 18,
     "metadata": {},
     "output_type": "execute_result"
    }
   ],
   "source": [
    "stemmed_words = [stemmer.stem(word) for word in review_words]\n",
    "stemmed_words"
   ]
  },
  {
   "cell_type": "code",
   "execution_count": 19,
   "metadata": {
    "collapsed": false
   },
   "outputs": [
    {
     "data": {
      "text/plain": [
       "[[u'nice',\n",
       "  u'place',\n",
       "  u'patio',\n",
       "  u'offer',\n",
       "  u'live',\n",
       "  u'sketch',\n",
       "  u'comedi',\n",
       "  u'wednesday',\n",
       "  u'novemb',\n",
       "  u'17th',\n",
       "  u'local',\n",
       "  u'troup',\n",
       "  u'sens',\n",
       "  u'annual',\n",
       "  u'holiday',\n",
       "  u'show',\n",
       "  u'lighter',\n",
       "  u'snappier',\n",
       "  u'take',\n",
       "  u'holiday',\n",
       "  u'time',\n",
       "  u'easili',\n",
       "  u'offend',\n",
       "  u'sketch',\n",
       "  u'includ',\n",
       "  u'scariest',\n",
       "  u'hollow',\n",
       "  u'costum',\n",
       "  u'first',\n",
       "  u'thanksgiv',\n",
       "  u'shot',\n",
       "  u'santa',\n",
       "  u'clau',\n",
       "  u'well',\n",
       "  u'infecti',\n",
       "  u'song',\n",
       "  u'mama',\n",
       "  u'christma']]"
      ]
     },
     "execution_count": 19,
     "metadata": {},
     "output_type": "execute_result"
    }
   ],
   "source": [
    "stemmedReview.append(stemmed_words)\n",
    "stemmedReview"
   ]
  },
  {
   "cell_type": "code",
   "execution_count": null,
   "metadata": {
    "collapsed": true
   },
   "outputs": [],
   "source": []
  }
 ],
 "metadata": {
  "kernelspec": {
   "display_name": "Python 2",
   "language": "python",
   "name": "python2"
  },
  "language_info": {
   "codemirror_mode": {
    "name": "ipython",
    "version": 2
   },
   "file_extension": ".py",
   "mimetype": "text/x-python",
   "name": "python",
   "nbconvert_exporter": "python",
   "pygments_lexer": "ipython2",
   "version": "2.7.11"
  }
 },
 "nbformat": 4,
 "nbformat_minor": 0
}
