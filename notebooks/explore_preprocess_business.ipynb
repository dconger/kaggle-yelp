{
 "cells": [
  {
   "cell_type": "code",
   "execution_count": 1,
   "metadata": {
    "collapsed": true
   },
   "outputs": [],
   "source": [
    "from sklearn.feature_extraction.text import CountVectorizer\n",
    "from sklearn.cluster import MiniBatchKMeans\n",
    "import pandas as pd\n",
    "import numpy as np\n",
    "import time\n",
    "import datetime"
   ]
  },
  {
   "cell_type": "code",
   "execution_count": 2,
   "metadata": {
    "collapsed": false
   },
   "outputs": [
    {
     "data": {
      "text/html": [
       "<div>\n",
       "<table border=\"1\" class=\"dataframe\">\n",
       "  <thead>\n",
       "    <tr style=\"text-align: right;\">\n",
       "      <th></th>\n",
       "      <th>categories</th>\n",
       "      <th>city</th>\n",
       "      <th>full_address</th>\n",
       "      <th>latitude</th>\n",
       "      <th>longitude</th>\n",
       "      <th>name</th>\n",
       "      <th>neighborhoods</th>\n",
       "      <th>open</th>\n",
       "      <th>review_count</th>\n",
       "      <th>stars</th>\n",
       "      <th>state</th>\n",
       "      <th>type</th>\n",
       "    </tr>\n",
       "    <tr>\n",
       "      <th>business_id</th>\n",
       "      <th></th>\n",
       "      <th></th>\n",
       "      <th></th>\n",
       "      <th></th>\n",
       "      <th></th>\n",
       "      <th></th>\n",
       "      <th></th>\n",
       "      <th></th>\n",
       "      <th></th>\n",
       "      <th></th>\n",
       "      <th></th>\n",
       "      <th></th>\n",
       "    </tr>\n",
       "  </thead>\n",
       "  <tbody>\n",
       "    <tr>\n",
       "      <th>rncjoVoEFUJGCUoC1JgnUA</th>\n",
       "      <td>Accountants,Professional Services,Tax Services...</td>\n",
       "      <td>Peoria</td>\n",
       "      <td>8466 W Peoria Ave\\nSte 6\\nPeoria, AZ 85345</td>\n",
       "      <td>33.581867</td>\n",
       "      <td>-112.241596</td>\n",
       "      <td>Peoria Income Tax Service</td>\n",
       "      <td>NaN</td>\n",
       "      <td>True</td>\n",
       "      <td>3</td>\n",
       "      <td>5.0</td>\n",
       "      <td>AZ</td>\n",
       "      <td>business</td>\n",
       "    </tr>\n",
       "    <tr>\n",
       "      <th>0FNFSzCFP_rGUoJx8W7tJg</th>\n",
       "      <td>Sporting Goods,Bikes,Shopping</td>\n",
       "      <td>Phoenix</td>\n",
       "      <td>2149 W Wood Dr\\nPhoenix, AZ 85029</td>\n",
       "      <td>33.604054</td>\n",
       "      <td>-112.105933</td>\n",
       "      <td>Bike Doctor</td>\n",
       "      <td>NaN</td>\n",
       "      <td>True</td>\n",
       "      <td>5</td>\n",
       "      <td>5.0</td>\n",
       "      <td>AZ</td>\n",
       "      <td>business</td>\n",
       "    </tr>\n",
       "    <tr>\n",
       "      <th>3f_lyB6vFK48ukH6ScvLHg</th>\n",
       "      <td>NaN</td>\n",
       "      <td>Phoenix</td>\n",
       "      <td>1134 N Central Ave\\nPhoenix, AZ 85004</td>\n",
       "      <td>33.460526</td>\n",
       "      <td>-112.073933</td>\n",
       "      <td>Valley Permaculture Alliance</td>\n",
       "      <td>NaN</td>\n",
       "      <td>True</td>\n",
       "      <td>4</td>\n",
       "      <td>5.0</td>\n",
       "      <td>AZ</td>\n",
       "      <td>business</td>\n",
       "    </tr>\n",
       "  </tbody>\n",
       "</table>\n",
       "</div>"
      ],
      "text/plain": [
       "                                                               categories  \\\n",
       "business_id                                                                 \n",
       "rncjoVoEFUJGCUoC1JgnUA  Accountants,Professional Services,Tax Services...   \n",
       "0FNFSzCFP_rGUoJx8W7tJg                      Sporting Goods,Bikes,Shopping   \n",
       "3f_lyB6vFK48ukH6ScvLHg                                                NaN   \n",
       "\n",
       "                           city                                full_address  \\\n",
       "business_id                                                                   \n",
       "rncjoVoEFUJGCUoC1JgnUA   Peoria  8466 W Peoria Ave\\nSte 6\\nPeoria, AZ 85345   \n",
       "0FNFSzCFP_rGUoJx8W7tJg  Phoenix           2149 W Wood Dr\\nPhoenix, AZ 85029   \n",
       "3f_lyB6vFK48ukH6ScvLHg  Phoenix       1134 N Central Ave\\nPhoenix, AZ 85004   \n",
       "\n",
       "                         latitude   longitude                          name  \\\n",
       "business_id                                                                   \n",
       "rncjoVoEFUJGCUoC1JgnUA  33.581867 -112.241596     Peoria Income Tax Service   \n",
       "0FNFSzCFP_rGUoJx8W7tJg  33.604054 -112.105933                   Bike Doctor   \n",
       "3f_lyB6vFK48ukH6ScvLHg  33.460526 -112.073933  Valley Permaculture Alliance   \n",
       "\n",
       "                        neighborhoods  open  review_count  stars state  \\\n",
       "business_id                                                              \n",
       "rncjoVoEFUJGCUoC1JgnUA            NaN  True             3    5.0    AZ   \n",
       "0FNFSzCFP_rGUoJx8W7tJg            NaN  True             5    5.0    AZ   \n",
       "3f_lyB6vFK48ukH6ScvLHg            NaN  True             4    5.0    AZ   \n",
       "\n",
       "                            type  \n",
       "business_id                       \n",
       "rncjoVoEFUJGCUoC1JgnUA  business  \n",
       "0FNFSzCFP_rGUoJx8W7tJg  business  \n",
       "3f_lyB6vFK48ukH6ScvLHg  business  "
      ]
     },
     "execution_count": 2,
     "metadata": {},
     "output_type": "execute_result"
    }
   ],
   "source": [
    "business_df = pd.read_csv('../data/yelp_training_set_business.csv').set_index('business_id')\n",
    "business_df[:3]"
   ]
  },
  {
   "cell_type": "code",
   "execution_count": 3,
   "metadata": {
    "collapsed": false
   },
   "outputs": [
    {
     "data": {
      "text/plain": [
       "Index([u'categories', u'city', u'full_address', u'latitude', u'longitude',\n",
       "       u'name', u'neighborhoods', u'open', u'review_count', u'stars', u'state',\n",
       "       u'type'],\n",
       "      dtype='object')"
      ]
     },
     "execution_count": 3,
     "metadata": {},
     "output_type": "execute_result"
    }
   ],
   "source": [
    "business_df.columns"
   ]
  },
  {
   "cell_type": "code",
   "execution_count": 4,
   "metadata": {
    "collapsed": false
   },
   "outputs": [
    {
     "data": {
      "text/plain": [
       "Index([u'categories', u'latitude', u'longitude', u'open', u'review_count',\n",
       "       u'stars'],\n",
       "      dtype='object')"
      ]
     },
     "execution_count": 4,
     "metadata": {},
     "output_type": "execute_result"
    }
   ],
   "source": [
    "business_df = business_df.drop(['city','full_address', #'latitude','longitude', # keep for location grouping\n",
    "                      'name','neighborhoods','state','type'],axis=1)\n",
    "business_df.columns"
   ]
  },
  {
   "cell_type": "code",
   "execution_count": 6,
   "metadata": {
    "collapsed": false
   },
   "outputs": [
    {
     "data": {
      "text/plain": [
       "<11537x513 sparse matrix of type '<type 'numpy.int64'>'\n",
       "\twith 31416 stored elements in Compressed Sparse Row format>"
      ]
     },
     "execution_count": 6,
     "metadata": {},
     "output_type": "execute_result"
    }
   ],
   "source": [
    "vect = CountVectorizer(tokenizer=lambda text: text.split(','))\n",
    "cat_fea = vect.fit_transform(business_df['categories'].fillna(''))\n",
    "cat_fea"
   ]
  },
  {
   "cell_type": "code",
   "execution_count": 7,
   "metadata": {
    "collapsed": false
   },
   "outputs": [
    {
     "data": {
      "text/plain": [
       "matrix([[0, 0, 0, ..., 0, 0, 0],\n",
       "        [0, 0, 0, ..., 0, 0, 0],\n",
       "        [1, 0, 0, ..., 0, 0, 0],\n",
       "        ..., \n",
       "        [0, 0, 0, ..., 0, 0, 0],\n",
       "        [0, 0, 0, ..., 0, 0, 0],\n",
       "        [0, 0, 0, ..., 0, 0, 0]])"
      ]
     },
     "execution_count": 7,
     "metadata": {},
     "output_type": "execute_result"
    }
   ],
   "source": [
    "cat_fea = cat_fea.todense()\n",
    "cat_fea"
   ]
  },
  {
   "cell_type": "code",
   "execution_count": 8,
   "metadata": {
    "collapsed": false
   },
   "outputs": [
    {
     "data": {
      "text/plain": [
       "matrix([[0, 0, 0, 0, 0, 0, 1, 0, 0, 0, 0, 0, 0, 0, 0, 0, 0, 0, 0, 0, 0, 0,\n",
       "         0, 0, 0, 0, 0, 0, 0, 0, 0, 0, 0, 0, 0, 0, 0, 0, 0, 0, 0, 0, 0, 0,\n",
       "         0, 0, 0, 0, 0, 0, 0, 0, 0, 0, 0, 0, 0, 0, 0, 0, 0, 0, 0, 0, 0, 0,\n",
       "         0, 0, 0, 0, 0, 0, 0, 0, 0, 0, 0, 0, 0, 0, 0, 0, 0, 0, 0, 0, 0, 0,\n",
       "         0, 0, 0, 0, 0, 0, 0, 0, 0, 0, 0, 0, 0, 0, 0, 0, 0, 0, 0, 0, 0, 0,\n",
       "         0, 0, 0, 0, 0, 0, 0, 0, 0, 0, 0, 0, 0, 0, 0, 0, 0, 0, 0, 0, 0, 0,\n",
       "         0, 0, 0, 0, 0, 0, 0, 0, 0, 0, 0, 0, 0, 0, 0, 0, 0, 0, 0, 0, 0, 0,\n",
       "         0, 0, 0, 0, 0, 0, 0, 0, 0, 0, 0, 0, 0, 0, 0, 0, 0, 0, 0, 0, 0, 0,\n",
       "         1, 0, 0, 0, 0, 0, 0, 0, 0, 0, 0, 0, 0, 0, 0, 0, 0, 0, 0, 0, 0, 0,\n",
       "         0, 0, 0, 0, 0, 0, 0, 0, 0, 0, 0, 0, 0, 0, 0, 0, 0, 0, 0, 0, 0, 0,\n",
       "         0, 0, 0, 0, 0, 0, 0, 0, 0, 0, 0, 0, 0, 0, 0, 0, 0, 0, 0, 0, 0, 0,\n",
       "         0, 0, 0, 0, 0, 0, 0, 0, 0, 0, 0, 0, 0, 0, 0, 0, 0, 0, 0, 0, 0, 0,\n",
       "         0, 0, 0, 0, 0, 0, 0, 0, 0, 0, 0, 0, 0, 0, 0, 0, 0, 0, 0, 0, 0, 0,\n",
       "         0, 0, 0, 0, 0, 0, 0, 0, 0, 0, 0, 0, 0, 0, 0, 0, 0, 0, 0, 0, 0, 0,\n",
       "         0, 0, 0, 0, 0, 0, 0, 0, 0, 0, 0, 0, 0, 0, 0, 0, 0, 0, 0, 0, 0, 0,\n",
       "         0, 0, 0, 0, 0, 0, 0, 0, 0, 0, 0, 0, 0, 0, 0, 0, 0, 0, 0, 0, 0, 0,\n",
       "         0, 0, 0, 0, 0, 0, 0, 0, 0, 0, 0, 0, 0, 0, 0, 0, 0, 0, 0, 0, 0, 0,\n",
       "         0, 0, 0, 0, 0, 0, 0, 0, 0, 0, 0, 0, 0, 0, 1, 0, 0, 0, 0, 0, 0, 0,\n",
       "         0, 0, 0, 0, 0, 0, 0, 0, 0, 0, 0, 0, 0, 0, 0, 0, 0, 0, 0, 0, 0, 0,\n",
       "         0, 0, 0, 0, 0, 0, 0, 0, 0, 0, 0, 0, 0, 0, 0, 0, 0, 0, 0, 0, 0, 0,\n",
       "         0, 0, 0, 0, 0, 0, 0, 0, 0, 0, 0, 0, 0, 0, 0, 0, 0, 0, 0, 0, 0, 0,\n",
       "         0, 0, 1, 0, 0, 0, 0, 0, 0, 0, 0, 0, 0, 0, 0, 0, 0, 0, 0, 0, 0, 0,\n",
       "         0, 0, 0, 0, 0, 0, 0, 0, 0, 0, 0, 0, 0, 0, 0, 0, 0, 0, 0, 0, 0, 0,\n",
       "         0, 0, 0, 0, 0, 0, 0]])"
      ]
     },
     "execution_count": 8,
     "metadata": {},
     "output_type": "execute_result"
    }
   ],
   "source": [
    "cat_fea[:1]"
   ]
  },
  {
   "cell_type": "code",
   "execution_count": 9,
   "metadata": {
    "collapsed": true
   },
   "outputs": [],
   "source": [
    "cat_fea[cat_fea > 1] = 1"
   ]
  },
  {
   "cell_type": "code",
   "execution_count": 10,
   "metadata": {
    "collapsed": false
   },
   "outputs": [
    {
     "name": "stdout",
     "output_type": "stream",
     "text": [
      "fitting 20 clusters - category\n",
      "0.0104936639468\n",
      "fitting 35 clusters - category\n"
     ]
    },
    {
     "name": "stderr",
     "output_type": "stream",
     "text": [
      "/Users/danielconger/anaconda/envs/gl-env/lib/python2.7/site-packages/sklearn/utils/validation.py:420: DataConversionWarning: Data with input dtype int64 was converted to float64.\n",
      "  warnings.warn(msg, DataConversionWarning)\n"
     ]
    },
    {
     "name": "stdout",
     "output_type": "stream",
     "text": [
      "0.00657826662064\n",
      "fitting 50 clusters - category\n"
     ]
    },
    {
     "name": "stderr",
     "output_type": "stream",
     "text": [
      "/Users/danielconger/anaconda/envs/gl-env/lib/python2.7/site-packages/sklearn/utils/validation.py:420: DataConversionWarning: Data with input dtype int64 was converted to float64.\n",
      "  warnings.warn(msg, DataConversionWarning)\n"
     ]
    },
    {
     "name": "stdout",
     "output_type": "stream",
     "text": [
      "0.00511775016785\n",
      "fitting 60 clusters - category\n"
     ]
    },
    {
     "name": "stderr",
     "output_type": "stream",
     "text": [
      "/Users/danielconger/anaconda/envs/gl-env/lib/python2.7/site-packages/sklearn/utils/validation.py:420: DataConversionWarning: Data with input dtype int64 was converted to float64.\n",
      "  warnings.warn(msg, DataConversionWarning)\n"
     ]
    },
    {
     "name": "stdout",
     "output_type": "stream",
     "text": [
      "0.00520635048548\n",
      "fitting 70 clusters - category\n"
     ]
    },
    {
     "name": "stderr",
     "output_type": "stream",
     "text": [
      "/Users/danielconger/anaconda/envs/gl-env/lib/python2.7/site-packages/sklearn/utils/validation.py:420: DataConversionWarning: Data with input dtype int64 was converted to float64.\n",
      "  warnings.warn(msg, DataConversionWarning)\n"
     ]
    },
    {
     "name": "stdout",
     "output_type": "stream",
     "text": [
      "0.0150251865387\n"
     ]
    },
    {
     "name": "stderr",
     "output_type": "stream",
     "text": [
      "/Users/danielconger/anaconda/envs/gl-env/lib/python2.7/site-packages/sklearn/utils/validation.py:420: DataConversionWarning: Data with input dtype int64 was converted to float64.\n",
      "  warnings.warn(msg, DataConversionWarning)\n"
     ]
    },
    {
     "name": "stdout",
     "output_type": "stream",
     "text": [
      "fitting 80 clusters - category\n",
      "0.0176492333412\n",
      "fitting 90 clusters - category\n"
     ]
    },
    {
     "name": "stderr",
     "output_type": "stream",
     "text": [
      "/Users/danielconger/anaconda/envs/gl-env/lib/python2.7/site-packages/sklearn/utils/validation.py:420: DataConversionWarning: Data with input dtype int64 was converted to float64.\n",
      "  warnings.warn(msg, DataConversionWarning)\n"
     ]
    },
    {
     "name": "stdout",
     "output_type": "stream",
     "text": [
      "0.0171066681544\n",
      "fitting 100 clusters - category\n"
     ]
    },
    {
     "name": "stderr",
     "output_type": "stream",
     "text": [
      "/Users/danielconger/anaconda/envs/gl-env/lib/python2.7/site-packages/sklearn/utils/validation.py:420: DataConversionWarning: Data with input dtype int64 was converted to float64.\n",
      "  warnings.warn(msg, DataConversionWarning)\n"
     ]
    },
    {
     "name": "stdout",
     "output_type": "stream",
     "text": [
      "0.0132697184881\n",
      "fitting 110 clusters - category\n"
     ]
    },
    {
     "name": "stderr",
     "output_type": "stream",
     "text": [
      "/Users/danielconger/anaconda/envs/gl-env/lib/python2.7/site-packages/sklearn/utils/validation.py:420: DataConversionWarning: Data with input dtype int64 was converted to float64.\n",
      "  warnings.warn(msg, DataConversionWarning)\n"
     ]
    },
    {
     "name": "stdout",
     "output_type": "stream",
     "text": [
      "0.0193510174751\n",
      "fitting 125 clusters - category\n"
     ]
    },
    {
     "name": "stderr",
     "output_type": "stream",
     "text": [
      "/Users/danielconger/anaconda/envs/gl-env/lib/python2.7/site-packages/sklearn/utils/validation.py:420: DataConversionWarning: Data with input dtype int64 was converted to float64.\n",
      "  warnings.warn(msg, DataConversionWarning)\n"
     ]
    },
    {
     "name": "stdout",
     "output_type": "stream",
     "text": [
      "0.0269546190898\n"
     ]
    },
    {
     "name": "stderr",
     "output_type": "stream",
     "text": [
      "/Users/danielconger/anaconda/envs/gl-env/lib/python2.7/site-packages/sklearn/utils/validation.py:420: DataConversionWarning: Data with input dtype int64 was converted to float64.\n",
      "  warnings.warn(msg, DataConversionWarning)\n"
     ]
    }
   ],
   "source": [
    "## CATEGORY CLUSTERS\n",
    "#  Based on the category extracted before, the idea is to create a n clusters to\n",
    "#  aggregate set of similar categories\n",
    "for esti in (20,35,50,60,70,80,90,100,110,125):\n",
    "    km = MiniBatchKMeans(n_clusters=esti, random_state=1377, init_size=esti*10)\n",
    "\n",
    "    print \"fitting \"+str(esti)+\" clusters - category\"\n",
    "    init_time = time.time()\n",
    "    km.fit(cat_fea)\n",
    "    print (time.time()-init_time)/60\n",
    "\n",
    "    business_df['cat_clust_'+str(esti)] = km.predict(cat_fea)"
   ]
  },
  {
   "cell_type": "code",
   "execution_count": 11,
   "metadata": {
    "collapsed": false
   },
   "outputs": [
    {
     "data": {
      "text/plain": [
       "Index([u'categories', u'latitude', u'longitude', u'open', u'review_count',\n",
       "       u'stars', u'cat_clust_20', u'cat_clust_35', u'cat_clust_50',\n",
       "       u'cat_clust_60', u'cat_clust_70', u'cat_clust_80', u'cat_clust_90',\n",
       "       u'cat_clust_100', u'cat_clust_110', u'cat_clust_125'],\n",
       "      dtype='object')"
      ]
     },
     "execution_count": 11,
     "metadata": {},
     "output_type": "execute_result"
    }
   ],
   "source": [
    "business_df.columns"
   ]
  },
  {
   "cell_type": "code",
   "execution_count": 12,
   "metadata": {
    "collapsed": false
   },
   "outputs": [
    {
     "name": "stdout",
     "output_type": "stream",
     "text": [
      "fitting 5 clusters - location\n",
      "0.00350896517436\n",
      "fitting 10 clusters - location\n",
      "0.00165851910909\n",
      "fitting 15 clusters - location\n",
      "0.00091921488444\n",
      "fitting 20 clusters - location\n",
      "0.00121919711431\n",
      "fitting 25 clusters - location\n",
      "0.00173786878586\n",
      "fitting 30 clusters - location\n",
      "0.00281663338343\n",
      "fitting 40 clusters - location\n",
      "0.00192678372065\n"
     ]
    }
   ],
   "source": [
    "## LOCATION CLUSTERS\n",
    "#  Location cluster, even if only in Phoenix area this might spot interesting patterns\n",
    "for esti in (5,10,15,20,25,30,40):\n",
    "    km = MiniBatchKMeans(n_clusters=esti, random_state=1377, init_size=esti*100)\n",
    "\n",
    "    print \"fitting \"+str(esti)+\" clusters - location\"\n",
    "    init_time = time.time()\n",
    "    km.fit(business_df.ix[:,['latitude','longitude']])\n",
    "    print (time.time()-init_time)/60\n",
    "\n",
    "    business_df['loc_clust_'+str(esti)] = km.predict(business_df.ix[:,['latitude','longitude']])"
   ]
  },
  {
   "cell_type": "code",
   "execution_count": 13,
   "metadata": {
    "collapsed": false
   },
   "outputs": [
    {
     "data": {
      "text/plain": [
       "Index([u'categories', u'latitude', u'longitude', u'open', u'review_count',\n",
       "       u'stars', u'cat_clust_20', u'cat_clust_35', u'cat_clust_50',\n",
       "       u'cat_clust_60', u'cat_clust_70', u'cat_clust_80', u'cat_clust_90',\n",
       "       u'cat_clust_100', u'cat_clust_110', u'cat_clust_125', u'loc_clust_5',\n",
       "       u'loc_clust_10', u'loc_clust_15', u'loc_clust_20', u'loc_clust_25',\n",
       "       u'loc_clust_30', u'loc_clust_40'],\n",
       "      dtype='object')"
      ]
     },
     "execution_count": 13,
     "metadata": {},
     "output_type": "execute_result"
    }
   ],
   "source": [
    "business_df.columns"
   ]
  },
  {
   "cell_type": "code",
   "execution_count": 14,
   "metadata": {
    "collapsed": false
   },
   "outputs": [
    {
     "data": {
      "text/html": [
       "<div>\n",
       "<table border=\"1\" class=\"dataframe\">\n",
       "  <thead>\n",
       "    <tr style=\"text-align: right;\">\n",
       "      <th></th>\n",
       "      <th>categories</th>\n",
       "      <th>latitude</th>\n",
       "      <th>longitude</th>\n",
       "      <th>open</th>\n",
       "      <th>review_count</th>\n",
       "      <th>stars</th>\n",
       "      <th>cat_clust_20</th>\n",
       "      <th>cat_clust_35</th>\n",
       "      <th>cat_clust_50</th>\n",
       "      <th>cat_clust_60</th>\n",
       "      <th>...</th>\n",
       "      <th>cat_clust_100</th>\n",
       "      <th>cat_clust_110</th>\n",
       "      <th>cat_clust_125</th>\n",
       "      <th>loc_clust_5</th>\n",
       "      <th>loc_clust_10</th>\n",
       "      <th>loc_clust_15</th>\n",
       "      <th>loc_clust_20</th>\n",
       "      <th>loc_clust_25</th>\n",
       "      <th>loc_clust_30</th>\n",
       "      <th>loc_clust_40</th>\n",
       "    </tr>\n",
       "    <tr>\n",
       "      <th>business_id</th>\n",
       "      <th></th>\n",
       "      <th></th>\n",
       "      <th></th>\n",
       "      <th></th>\n",
       "      <th></th>\n",
       "      <th></th>\n",
       "      <th></th>\n",
       "      <th></th>\n",
       "      <th></th>\n",
       "      <th></th>\n",
       "      <th></th>\n",
       "      <th></th>\n",
       "      <th></th>\n",
       "      <th></th>\n",
       "      <th></th>\n",
       "      <th></th>\n",
       "      <th></th>\n",
       "      <th></th>\n",
       "      <th></th>\n",
       "      <th></th>\n",
       "      <th></th>\n",
       "    </tr>\n",
       "  </thead>\n",
       "  <tbody>\n",
       "    <tr>\n",
       "      <th>rncjoVoEFUJGCUoC1JgnUA</th>\n",
       "      <td>Accountants,Professional Services,Tax Services...</td>\n",
       "      <td>33.581867</td>\n",
       "      <td>-112.241596</td>\n",
       "      <td>True</td>\n",
       "      <td>3</td>\n",
       "      <td>5.0</td>\n",
       "      <td>7</td>\n",
       "      <td>15</td>\n",
       "      <td>14</td>\n",
       "      <td>7</td>\n",
       "      <td>...</td>\n",
       "      <td>55</td>\n",
       "      <td>3</td>\n",
       "      <td>102</td>\n",
       "      <td>3</td>\n",
       "      <td>3</td>\n",
       "      <td>3</td>\n",
       "      <td>19</td>\n",
       "      <td>1</td>\n",
       "      <td>7</td>\n",
       "      <td>36</td>\n",
       "    </tr>\n",
       "    <tr>\n",
       "      <th>0FNFSzCFP_rGUoJx8W7tJg</th>\n",
       "      <td>Sporting Goods,Bikes,Shopping</td>\n",
       "      <td>33.604054</td>\n",
       "      <td>-112.105933</td>\n",
       "      <td>True</td>\n",
       "      <td>5</td>\n",
       "      <td>5.0</td>\n",
       "      <td>4</td>\n",
       "      <td>17</td>\n",
       "      <td>15</td>\n",
       "      <td>13</td>\n",
       "      <td>...</td>\n",
       "      <td>43</td>\n",
       "      <td>70</td>\n",
       "      <td>20</td>\n",
       "      <td>2</td>\n",
       "      <td>5</td>\n",
       "      <td>12</td>\n",
       "      <td>14</td>\n",
       "      <td>22</td>\n",
       "      <td>15</td>\n",
       "      <td>6</td>\n",
       "    </tr>\n",
       "  </tbody>\n",
       "</table>\n",
       "<p>2 rows × 23 columns</p>\n",
       "</div>"
      ],
      "text/plain": [
       "                                                               categories  \\\n",
       "business_id                                                                 \n",
       "rncjoVoEFUJGCUoC1JgnUA  Accountants,Professional Services,Tax Services...   \n",
       "0FNFSzCFP_rGUoJx8W7tJg                      Sporting Goods,Bikes,Shopping   \n",
       "\n",
       "                         latitude   longitude  open  review_count  stars  \\\n",
       "business_id                                                                \n",
       "rncjoVoEFUJGCUoC1JgnUA  33.581867 -112.241596  True             3    5.0   \n",
       "0FNFSzCFP_rGUoJx8W7tJg  33.604054 -112.105933  True             5    5.0   \n",
       "\n",
       "                        cat_clust_20  cat_clust_35  cat_clust_50  \\\n",
       "business_id                                                        \n",
       "rncjoVoEFUJGCUoC1JgnUA             7            15            14   \n",
       "0FNFSzCFP_rGUoJx8W7tJg             4            17            15   \n",
       "\n",
       "                        cat_clust_60      ...       cat_clust_100  \\\n",
       "business_id                               ...                       \n",
       "rncjoVoEFUJGCUoC1JgnUA             7      ...                  55   \n",
       "0FNFSzCFP_rGUoJx8W7tJg            13      ...                  43   \n",
       "\n",
       "                        cat_clust_110  cat_clust_125  loc_clust_5  \\\n",
       "business_id                                                         \n",
       "rncjoVoEFUJGCUoC1JgnUA              3            102            3   \n",
       "0FNFSzCFP_rGUoJx8W7tJg             70             20            2   \n",
       "\n",
       "                        loc_clust_10  loc_clust_15  loc_clust_20  \\\n",
       "business_id                                                        \n",
       "rncjoVoEFUJGCUoC1JgnUA             3             3            19   \n",
       "0FNFSzCFP_rGUoJx8W7tJg             5            12            14   \n",
       "\n",
       "                        loc_clust_25  loc_clust_30  loc_clust_40  \n",
       "business_id                                                       \n",
       "rncjoVoEFUJGCUoC1JgnUA             1             7            36  \n",
       "0FNFSzCFP_rGUoJx8W7tJg            22            15             6  \n",
       "\n",
       "[2 rows x 23 columns]"
      ]
     },
     "execution_count": 14,
     "metadata": {},
     "output_type": "execute_result"
    }
   ],
   "source": [
    "business_df[:2]"
   ]
  },
  {
   "cell_type": "code",
   "execution_count": null,
   "metadata": {
    "collapsed": true
   },
   "outputs": [],
   "source": []
  }
 ],
 "metadata": {
  "kernelspec": {
   "display_name": "Python 2",
   "language": "python",
   "name": "python2"
  },
  "language_info": {
   "codemirror_mode": {
    "name": "ipython",
    "version": 2
   },
   "file_extension": ".py",
   "mimetype": "text/x-python",
   "name": "python",
   "nbconvert_exporter": "python",
   "pygments_lexer": "ipython2",
   "version": "2.7.11"
  }
 },
 "nbformat": 4,
 "nbformat_minor": 0
}
